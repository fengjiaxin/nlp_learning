{
 "cells": [
  {
   "cell_type": "code",
   "execution_count": 1,
   "metadata": {},
   "outputs": [],
   "source": [
    "# 前向最大匹配\n",
    "# sentence: 我们经常有意见分歧\n",
    "# vocab: [我们，经常，有，有意见，意见，分歧]\n",
    "\n",
    "# 前向最大匹配 \n",
    "def forward_match(sentence,vocab,max_window_len = 3):\n",
    "    word_list = []\n",
    "    seq_len = len(sentence)\n",
    "    start_index = 0\n",
    "    while start_index < seq_len:\n",
    "        for m_len in range(max_window_len,0,-1):\n",
    "            char = sentence[start_index:start_index + m_len]\n",
    "            if char in vocab:\n",
    "                word_list.append(char)\n",
    "                start_index = start_index + m_len\n",
    "                break\n",
    "    return word_list"
   ]
  },
  {
   "cell_type": "code",
   "execution_count": 2,
   "metadata": {},
   "outputs": [
    {
     "name": "stdout",
     "output_type": "stream",
     "text": [
      "['我们', '经常', '有意见', '分歧']\n"
     ]
    }
   ],
   "source": [
    "sentence = '我们经常有意见分歧'\n",
    "vocab = ['我们','经常','有','有意见','意见','分歧']\n",
    "word_list = forward_match(sentence,vocab)\n",
    "print(word_list)"
   ]
  },
  {
   "cell_type": "code",
   "execution_count": 3,
   "metadata": {},
   "outputs": [],
   "source": [
    "# 问题分步骤解决\n",
    "# 1.首先构建中文Trie树\n",
    "\n",
    "class Trie_Node:\n",
    "    def __init__(self,char):\n",
    "        self.char = char\n",
    "        self.child = dict()\n",
    "        self.isLeaf = False\n",
    "\n",
    "# 构建trie树\n",
    "class Trie:\n",
    "    def __init__(self):\n",
    "        self.root = Trie_Node(None)\n",
    "        \n",
    "    # 在trie树中添加单词\n",
    "    def insert_word(self,word):\n",
    "        cur_node = self.root\n",
    "        for w_char in word:\n",
    "            if w_char not in cur_node.child:\n",
    "                new_node = Trie_Node(w_char)\n",
    "                cur_node.child[w_char] = new_node  \n",
    "            cur_node = cur_node.child[w_char]\n",
    "           \n",
    "        # 最后设置cur_node是叶子节点\n",
    "        cur_node.isLeaf = True\n",
    "        \n",
    "        \n",
    "    # Trie的字符串全字匹配，只返回True/False\n",
    "    def full_match(self,word):\n",
    "        cur_node = self.root\n",
    "\n",
    "        for w_char in word:\n",
    "            if w_char not in cur_node.child:\n",
    "                #print('full match fail !!')\n",
    "                return False\n",
    "            else:\n",
    "                cur_node = cur_node.child[w_char]\n",
    "                    \n",
    "        if cur_node.isLeaf == True and cur_node.char == word[-1]:\n",
    "            #print('full match success!!')\n",
    "            return True\n",
    "    # 添加词库\n",
    "    def insert_vocab(self,vocab):\n",
    "        for word in vocab:\n",
    "            self.insert_word(word)\n",
    "            \n",
    "    \n",
    "    # 前序便利Trie树\n",
    "    def preTraverse(self):\n",
    "        pre_list = []\n",
    "        def preTraverse_helper(cur_node):\n",
    "            if cur_node is not None:\n",
    "                if cur_node.char is not None:\n",
    "                    pre_list.append(cur_node.char)\n",
    "                #print(cur_node.char ,end=' ')\n",
    "                for child_char,child_node in cur_node.child.items():\n",
    "                    preTraverse_helper(child_node)\n",
    "        preTraverse_helper(self.root)\n",
    "        print(pre_list)\n",
    "        \n",
    "    def get_root(self):\n",
    "        return self.root"
   ]
  },
  {
   "cell_type": "code",
   "execution_count": 4,
   "metadata": {},
   "outputs": [],
   "source": [
    "def test_trie():\n",
    "    trie = Trie()\n",
    "    vocab = ['我们','经常','有','有意见','意见','分歧']\n",
    "    trie.insert_vocab(vocab)\n",
    "    trie.preTraverse()\n",
    "    print(trie.full_match('我们经'))\n",
    "    print(trie.full_match('有意见'))"
   ]
  },
  {
   "cell_type": "code",
   "execution_count": 5,
   "metadata": {},
   "outputs": [
    {
     "name": "stdout",
     "output_type": "stream",
     "text": [
      "['我', '们', '经', '常', '有', '意', '见', '意', '见', '分', '歧']\n",
      "False\n",
      "True\n"
     ]
    }
   ],
   "source": [
    "test_trie()"
   ]
  },
  {
   "cell_type": "code",
   "execution_count": 8,
   "metadata": {},
   "outputs": [],
   "source": [
    "# 说说思路\n",
    "# 首先从第一个词扩张，然后逐渐增大，判断子词是否在trie中\n",
    "def cut_sentence(sentence,vocab):\n",
    "    trie = Trie()\n",
    "    trie.insert_vocab(vocab)\n",
    "    \n",
    "    start_index = 0\n",
    "    max_window_len = 3 \n",
    "    word_list = []\n",
    "    seq_len = len(sentence)\n",
    "    \n",
    "    while start_index < seq_len:\n",
    "        for m_len in range(max_window_len,0,-1):\n",
    "            char = sentence[start_index:start_index + m_len]\n",
    "            if char in vocab:\n",
    "                word_list.append(char)\n",
    "                start_index = start_index + m_len\n",
    "                break\n",
    "    return word_list"
   ]
  },
  {
   "cell_type": "code",
   "execution_count": 9,
   "metadata": {},
   "outputs": [
    {
     "data": {
      "text/plain": [
       "['我们', '经常', '有意见', '分歧']"
      ]
     },
     "execution_count": 9,
     "metadata": {},
     "output_type": "execute_result"
    }
   ],
   "source": [
    "cut_sentence(sentence,vocab)"
   ]
  }
 ],
 "metadata": {
  "kernelspec": {
   "display_name": "Python 3",
   "language": "python",
   "name": "python3"
  },
  "language_info": {
   "codemirror_mode": {
    "name": "ipython",
    "version": 3
   },
   "file_extension": ".py",
   "mimetype": "text/x-python",
   "name": "python",
   "nbconvert_exporter": "python",
   "pygments_lexer": "ipython3",
   "version": "3.6.9"
  }
 },
 "nbformat": 4,
 "nbformat_minor": 2
}
