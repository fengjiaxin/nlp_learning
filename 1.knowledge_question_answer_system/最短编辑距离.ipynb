{
 "cells": [
  {
   "cell_type": "markdown",
   "metadata": {},
   "source": [
    "## 最短编辑距离  \n",
    "\n",
    "&emsp;&emsp;在nlp中的字符纠错过程中，如果输入的是错误的字符，那么需要从词典中找出与之最相似的字符\n",
    "\n",
    "&emsp;&emsp;动态规划解决编辑距离。\n",
    "\n",
    "&emsp;&emsp;假设dp[i-1][j-1]表示一个长为i-1的字符串str1变为长为j-1的字符串str2的最短距离，如果此时想要把str1a这个字符串变成str2b这个字符串，有如下几种选择。\n",
    "\n",
    "1. 替换：在str1变为str2的步骤后，将str1a中的a替换为b，就得到str2b(如果a和b相等，就不用操作)\n",
    "2. 增加：在str1a变成str2的步骤后，再在末尾添加一个b，就得到str2b(str1a先根据已知距离变成str2，再加个b)\n",
    "3. 删除：在str1变成str2b的步骤后，对于str1a，将末尾的a删除，就得到str2b(str1a将a删除得到str1,而str1到str2b的编辑距离已知)"
   ]
  },
  {
   "cell_type": "code",
   "execution_count": 2,
   "metadata": {},
   "outputs": [],
   "source": [
    "def get_mindistance(word1,word2):\n",
    "    m = len(word1)\n",
    "    n = len(word2)\n",
    "    dp = [[0 for i in range(n+1)] for i in range(m+1)]\n",
    "    \n",
    "    # 初始化空字符串\n",
    "    for i in range(1,m+1):\n",
    "        dp[i][0] = i\n",
    "    \n",
    "    for i in range(1,n+1):\n",
    "        dp[0][i] = i\n",
    "        \n",
    "    # 动态规划\n",
    "    for i in range(1,m+1):\n",
    "        for j in range(1,n+1):\n",
    "            # 增加操作，str1a变为str2，然后再加上b，得到str2b\n",
    "            insert_op = dp[i][j-1] + 1\n",
    "            # 删除操作 ，str1a删除a后，再由str1变为str2b\n",
    "            delete_op = dp[i-1][j] + 1\n",
    "            # 替换操作 str1替换成str2\n",
    "            replace_op = dp[i-1][j-1]\n",
    "            # 添加判断a和b是否相等\n",
    "            if word1[i-1] != word2[j-1]:\n",
    "                replace_op += 1\n",
    "            dp[i][j] = min(insert_op,delete_op,replace_op)\n",
    "    return dp[m][n]"
   ]
  },
  {
   "cell_type": "code",
   "execution_count": 4,
   "metadata": {},
   "outputs": [
    {
     "name": "stdout",
     "output_type": "stream",
     "text": [
      "2\n"
     ]
    }
   ],
   "source": [
    "min_distance = get_mindistance('zhanghua','zhanghau')\n",
    "print(min_distance)"
   ]
  }
 ],
 "metadata": {
  "kernelspec": {
   "display_name": "Python 3",
   "language": "python",
   "name": "python3"
  },
  "language_info": {
   "codemirror_mode": {
    "name": "ipython",
    "version": 3
   },
   "file_extension": ".py",
   "mimetype": "text/x-python",
   "name": "python",
   "nbconvert_exporter": "python",
   "pygments_lexer": "ipython3",
   "version": "3.6.7"
  }
 },
 "nbformat": 4,
 "nbformat_minor": 2
}
