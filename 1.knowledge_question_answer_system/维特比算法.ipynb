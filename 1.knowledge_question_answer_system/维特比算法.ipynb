{
 "cells": [
  {
   "cell_type": "code",
   "execution_count": 1,
   "metadata": {},
   "outputs": [],
   "source": [
    "# 基于动态规划的维特比算法\n",
    "\n",
    "# 例子： 经常有意见分歧\n",
    "# 词典： [经常，经，有，有意见，意见，分歧，见，意，见分歧，分] 其他\n",
    "# -logx [2.3, 3, 2.3, 2.3,  1.6,1.6,  3, 3,   3,  2.3] 20\n",
    "\n",
    "# 第一步。首先创建有向权重图，采用矩阵的方式\n",
    "class Graph:\n",
    "    def __init__(self,node_num,default_flag=None):\n",
    "        '''\n",
    "        node_num:节点的个数，== len(sentence) + 1\n",
    "        default_flag:矩阵默认填充的值\n",
    "        '''\n",
    "        self.graph_matrix = [[default_flag for i in range(node_num)] for i in range(node_num)]\n",
    "        print('init matrix')\n",
    "        self.print_matrix()\n",
    "    \n",
    "    def add_vertex(self,sentence,log_dict,max_window_len = 3,default_log=20.0):\n",
    "        '''\n",
    "        sentence:要添加边的句子\n",
    "        log_dict:关于单词和-logp的字典\n",
    "        max_window_len:最长的窗口长度\n",
    "        '''\n",
    "        \n",
    "        seq_len = len(sentence)\n",
    "        \n",
    "        # 首先将句子切割\n",
    "        for i in range(seq_len):\n",
    "            char = sentence[i]\n",
    "            weight = default_log\n",
    "            if char in log_dict:\n",
    "                weight = log_dict[char]\n",
    "            self.graph_matrix[i][i+1] = weight\n",
    "        print('struct single node')\n",
    "        self.print_matrix()\n",
    "            \n",
    "        \n",
    "        for win_len in range(2,max_window_len + 1):\n",
    "            for start_index in range(0,seq_len - win_len + 1):\n",
    "                char = sentence[start_index:start_index + win_len]\n",
    "                if char in log_dict:\n",
    "                    self.graph_matrix[start_index][start_index+ win_len] = log_dict[char]\n",
    "        \n",
    "        print('final matrix')\n",
    "        self.print_matrix()\n",
    "        \n",
    "    def get_graph(self):\n",
    "        return self.graph_matrix\n",
    "    \n",
    "    def print_matrix(self):\n",
    "        for se_list in self.graph_matrix:\n",
    "            print(se_list)"
   ]
  },
  {
   "cell_type": "code",
   "execution_count": 2,
   "metadata": {},
   "outputs": [],
   "source": [
    "def init_graph(sentence,log_dict,default_log=20.0,default_flag=None):\n",
    "    # 1.首先应该建立有向权重图\n",
    "    seq_len = len(sentence)\n",
    "    node_num = seq_len + 1\n",
    "    graph = Graph(node_num,default_flag)\n",
    "    # 设置最大窗口长度\n",
    "    max_window_len = 3\n",
    "    graph.add_vertex(sentence,log_dict,3,default_log)\n",
    "    graph_matrix = graph.get_graph()\n",
    "    return graph_matrix"
   ]
  },
  {
   "cell_type": "code",
   "execution_count": 16,
   "metadata": {},
   "outputs": [],
   "source": [
    "def get_viterbi_from_graph(graph_matrix,node_num,default_flag):\n",
    "    # 2. 动态规划解决viterbi问题\n",
    "    # 存储动态规划的值\n",
    "    dp = [float('Inf') for i in range(node_num)]\n",
    "    dp[0] = 0.0\n",
    "    # 存储从哪步跳转过来的节点\n",
    "    route = [-1 for i in range(node_num)]\n",
    "    # 动态规划解决\n",
    "    for i in range(1,node_num):\n",
    "        # 存储最优值的相关信息\n",
    "        min_weight = float('inf')\n",
    "        best_index = None\n",
    "        # 确定到达i节点的边\n",
    "        for j in range(i):\n",
    "            if graph_matrix[j][i] != default_flag:\n",
    "                if graph_matrix[j][i] + dp[j] < min_weight:\n",
    "                    min_weight = graph_matrix[j][i] + dp[j]\n",
    "                    best_index = j\n",
    "        # 浮点数不精确，保留一位\n",
    "        dp[i] = round(min_weight,1)\n",
    "        print('%d ---> %s'%(i,str(dp[i])))\n",
    "        route[i] = best_index\n",
    "    return dp,route"
   ]
  },
  {
   "cell_type": "code",
   "execution_count": 4,
   "metadata": {},
   "outputs": [],
   "source": [
    "def get_cut_result(sentence,dp,route):\n",
    "    result_log = dp[-1]\n",
    "    word_list = []\n",
    "    seq_len = len(sentence)\n",
    "    node_num = seq_len + 1\n",
    "    \n",
    "    start_index = node_num - 1\n",
    "    while start_index > 0:\n",
    "        prev_index = route[start_index]\n",
    "        word_list.insert(0,sentence[prev_index:start_index])\n",
    "        start_index = prev_index\n",
    "        \n",
    "    print('word_list:',str(word_list))\n",
    "    print('result_log:',str(result_log))"
   ]
  },
  {
   "cell_type": "code",
   "execution_count": 8,
   "metadata": {},
   "outputs": [],
   "source": [
    "def process(sentence,log_dict,defaut_log=20.0,default_flag=None):\n",
    "    # 1.构建有向权重图\n",
    "    graph_matrix = init_graph(sentence,log_dict,defaut_log,default_flag)\n",
    "    # 2.viterbi算法构建\n",
    "    dp,route = get_viterbi_from_graph(graph_matrix,len(sentence) + 1,default_flag)\n",
    "    print('dp:',str(dp))\n",
    "    print('route:',str(route))\n",
    "    \n",
    "    # 3.获取切词后的句子列表和log值\n",
    "    get_cut_result(sentence,dp,route)"
   ]
  },
  {
   "cell_type": "code",
   "execution_count": 17,
   "metadata": {},
   "outputs": [
    {
     "name": "stdout",
     "output_type": "stream",
     "text": [
      "init matrix\n",
      "[None, None, None, None, None, None, None, None]\n",
      "[None, None, None, None, None, None, None, None]\n",
      "[None, None, None, None, None, None, None, None]\n",
      "[None, None, None, None, None, None, None, None]\n",
      "[None, None, None, None, None, None, None, None]\n",
      "[None, None, None, None, None, None, None, None]\n",
      "[None, None, None, None, None, None, None, None]\n",
      "[None, None, None, None, None, None, None, None]\n",
      "struct single node\n",
      "[None, 3.0, None, None, None, None, None, None]\n",
      "[None, None, 20.0, None, None, None, None, None]\n",
      "[None, None, None, 2.3, None, None, None, None]\n",
      "[None, None, None, None, 3.0, None, None, None]\n",
      "[None, None, None, None, None, 3.0, None, None]\n",
      "[None, None, None, None, None, None, 2.3, None]\n",
      "[None, None, None, None, None, None, None, 20.0]\n",
      "[None, None, None, None, None, None, None, None]\n",
      "final matrix\n",
      "[None, 3.0, 2.3, None, None, None, None, None]\n",
      "[None, None, 20.0, None, None, None, None, None]\n",
      "[None, None, None, 2.3, None, 2.3, None, None]\n",
      "[None, None, None, None, 3.0, 1.6, None, None]\n",
      "[None, None, None, None, None, 3.0, None, 3.0]\n",
      "[None, None, None, None, None, None, 2.3, 1.6]\n",
      "[None, None, None, None, None, None, None, 20.0]\n",
      "[None, None, None, None, None, None, None, None]\n",
      "1 ---> 3.0\n",
      "2 ---> 2.3\n",
      "3 ---> 4.6\n",
      "4 ---> 7.6\n",
      "5 ---> 4.6\n",
      "6 ---> 6.9\n",
      "7 ---> 6.2\n",
      "dp: [0.0, 3.0, 2.3, 4.6, 7.6, 4.6, 6.9, 6.2]\n",
      "route: [-1, 0, 0, 2, 3, 2, 5, 5]\n",
      "word_list: ['经常', '有意见', '分歧']\n",
      "result_log: 6.2\n"
     ]
    }
   ],
   "source": [
    "# 例子： 经常有意见分歧\n",
    "# 词典： [经常，经，有，有意见，意见，分歧，见，意，见分歧，分] 其他\n",
    "# -logx [2.3, 3, 2.3, 2.3,  1.6,1.6,  3, 3,   3,  2.3] 20\n",
    "\n",
    "sentence = '经常有意见分歧'\n",
    "log_dict = {\n",
    "    '经常':2.3,\n",
    "    '经':3.,\n",
    "    '有':2.3,\n",
    "    '有意见':2.3,\n",
    "    '意见':1.6,\n",
    "    '分歧':1.6,\n",
    "    '见':3.,\n",
    "    '意':3.,\n",
    "    '见分歧':3.,\n",
    "    '分':2.3\n",
    "}\n",
    "\n",
    "# sentence = '有意见分歧'\n",
    "# log_dict = {\n",
    "#     '有':2.3,\n",
    "#     '有意见':2.3,\n",
    "#     '意见':1.6,\n",
    "#     '分歧':1.6,\n",
    "#     '见':3.,\n",
    "#     '意':3.,\n",
    "#     '见分歧':3.,\n",
    "#     '分':2.3\n",
    "# }\n",
    "\n",
    "process(sentence,log_dict,defaut_log=20.0,default_flag=None)"
   ]
  },
  {
   "cell_type": "code",
   "execution_count": 15,
   "metadata": {},
   "outputs": [
    {
     "data": {
      "text/plain": [
       "6.8999999999999995"
      ]
     },
     "execution_count": 15,
     "metadata": {},
     "output_type": "execute_result"
    }
   ],
   "source": [
    "# float 无法精确表示\n",
    "2.3 + 4.6"
   ]
  }
 ],
 "metadata": {
  "kernelspec": {
   "display_name": "Python 3",
   "language": "python",
   "name": "python3"
  },
  "language_info": {
   "codemirror_mode": {
    "name": "ipython",
    "version": 3
   },
   "file_extension": ".py",
   "mimetype": "text/x-python",
   "name": "python",
   "nbconvert_exporter": "python",
   "pygments_lexer": "ipython3",
   "version": "3.6.7"
  }
 },
 "nbformat": 4,
 "nbformat_minor": 2
}
