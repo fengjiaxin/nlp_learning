{
 "cells": [
  {
   "cell_type": "markdown",
   "metadata": {},
   "source": [
    "## 注意(attention)！开始做前必读项！\n",
    "\n",
    "- 所有的代码一定要在这个文件里面编写，不要自己创建一个新的文件\n",
    "- 对于提供的数据集，不要改存储地方，也不要修改文件名和内容\n",
    "- 确保到时候git pull之后我们可以直接运行这个 starter_code文件\n",
    "- 不要重新定义函数（如果我们已经定义好的），按照里面的思路来编写。当然，除了我们定义的部分，如有需要可以自行定义函数或者模块\n",
    "- 写完之后，重新看一下哪一部分比较慢，然后试图去优化。一个好的习惯是每写一部分就思考这部分代码的时间复杂度和空间复杂度，AI工程是的日常习惯！\n",
    "- 第一次作业很重要，一定要完成！ 相信会有很多的收获！"
   ]
  },
  {
   "cell_type": "markdown",
   "metadata": {},
   "source": [
    "## Part 1: 搭建一个分词工具\n",
    "\n",
    "### Part 1.1  基于枚举方法来搭建中文分词工具\n",
    "\n",
    "此项目需要的数据：\n",
    "1. 综合类中文词库.xlsx： 包含了中文词，当做词典来用\n",
    "2. 以变量的方式提供了部分unigram概率 word_prob\n",
    "\n",
    "\n",
    "举个例子： 给定词典=[我们 学习 人工 智能 人工智能 未来 是]， 另外我们给定unigram概率：p(我们)=0.25, p(学习)=0.15, p(人工)=0.05, p(智能)=0.1, p(人工智能)=0.2, p(未来)=0.1, p(是)=0.15\n",
    "\n",
    "#### Step 1: 对于给定字符串：”我们学习人工智能，人工智能是未来“, 找出所有可能的分割方式\n",
    "- [我们，学习，人工智能，人工智能，是，未来]\n",
    "- [我们，学习，人工，智能，人工智能，是，未来]\n",
    "- [我们，学习，人工，智能，人工，智能，是，未来]\n",
    "- [我们，学习，人工智能，人工，智能，是，未来]\n",
    ".......\n",
    "\n",
    "\n",
    "#### Step 2: 我们也可以计算出每一个切分之后句子的概率\n",
    "- p(我们，学习，人工智能，人工智能，是，未来)= -log p(我们)-log p(学习)-log p(人工智能)-log p(人工智能)-log p(是)-log p(未来)\n",
    "- p(我们，学习，人工，智能，人工智能，是，未来)=-log p(我们)-log p(学习)-log p(人工)-log p(智能)-log p(人工智能)-log p(是)-log p(未来)\n",
    "- p(我们，学习，人工，智能，人工，智能，是，未来)=-log p(我们)-log p(学习)-log p(人工)-log p(智能)-log p(人工)-log p(智能)-log p(是)-log p(未来)\n",
    "- p(我们，学习，人工智能，人工，智能，是，未来)=-log p(我们)-log p(学习)-log p(人工智能)-log p(人工)-log p(智能)-log(是)-log p(未来)\n",
    ".....\n",
    "\n",
    "#### Step 3: 返回第二步中概率最大的结果"
   ]
  },
  {
   "cell_type": "code",
   "execution_count": 1,
   "metadata": {
    "collapsed": true
   },
   "outputs": [
    {
     "name": "stdout",
     "output_type": "stream",
     "text": [
      "1.0000000000000002\n"
     ]
    }
   ],
   "source": [
    "# TODO: 第一步： 从dic.txt中读取所有中文词。\n",
    "#  hint: 思考一下用什么数据结构来存储这个词典会比较好？ 要考虑我们每次查询一个单词的效率。 \n",
    "# dic_words =     # 保存词典库中读取的单词\n",
    "\n",
    "# 以下是每一个单词出现的概率。为了问题的简化，我们只列出了一小部分单词的概率。 在这里没有出现的的单词但是出现在词典里的，统一把概率设置成为0.00001\n",
    "# 比如 p(\"学院\")=p(\"概率\")=...0.00001\n",
    "\n",
    "word_prob = {\"北京\":0.03,\"的\":0.08,\"天\":0.005,\"气\":0.005,\"天气\":0.06,\"真\":0.04,\"好\":0.05,\"真好\":0.04,\"啊\":0.01,\"真好啊\":0.02, \n",
    "             \"今\":0.01,\"今天\":0.07,\"课程\":0.06,\"内容\":0.06,\"有\":0.05,\"很\":0.03,\"很有\":0.04,\"意思\":0.06,\"有意思\":0.005,\"课\":0.01,\n",
    "             \"程\":0.005,\"经常\":0.08,\"意见\":0.08,\"意\":0.01,\"见\":0.005,\"有意见\":0.02,\"分歧\":0.04,\"分\":0.02, \"歧\":0.005}\n",
    "\n",
    "print (sum(word_prob.values()))"
   ]
  },
  {
   "cell_type": "code",
   "execution_count": 2,
   "metadata": {},
   "outputs": [],
   "source": [
    "import math\n",
    "# 获取句子分词的sum(-log)值\n",
    "def get_negative_logp(segment,word_prob):\n",
    "    default_log = -math.log(0.00001)\n",
    "    res_log = 0.0\n",
    "    for seg in segment:\n",
    "        if seg in word_prob:\n",
    "            res_log += -math.log(word_prob[seg])\n",
    "        else:\n",
    "            res_log += default_log\n",
    "    return res_log"
   ]
  },
  {
   "cell_type": "code",
   "execution_count": 3,
   "metadata": {},
   "outputs": [],
   "source": [
    "# 先获取所有可能的分词结果\n",
    "def all_possible_segmentations(str,vocab):\n",
    "    '''\n",
    "    思路：返回所有的可能集合\n",
    "    首先对每个位置都建立集合list(list),外面的list代表有多少个分词方法，里面的list是具体的分词结构\n",
    "    对于 贪心科技，该result 是[['贪心','科技'],['贪心科技']]\n",
    "    '''\n",
    "    \n",
    "    '''\n",
    "    debug之后才知道几个问题\n",
    "    1.列表一定要复制\n",
    "    2.list.copy()返回一个新列表\n",
    "    '''\n",
    "    \n",
    "    # 子字符串的长度从1到len(str)\n",
    "    # 动态维护\n",
    "    break_list = [[] for i in range(len(str) + 1)]\n",
    "    break_list[0].append([''])\n",
    "\n",
    "    # 子字符串的长度从1到len(str)\n",
    "    for i in range(1, len(str) + 1):\n",
    "        # 子词开始的位置j,结束的位置i\n",
    "        for j in range(0, i):\n",
    "            if str[j:i] in vocab and len(break_list[j]) != 0:\n",
    "                #print('j:%d  i:%d' % (j, i), break_list[j])\n",
    "                for temp in break_list[j]:\n",
    "                    a = temp.copy()\n",
    "                    a.append(str[j:i])\n",
    "                    break_list[i].append(a)\n",
    "    \n",
    "    result_list = []\n",
    "    for temp in break_list[-1]:\n",
    "        result_list.append(temp[1:])\n",
    "    return result_list"
   ]
  },
  {
   "cell_type": "code",
   "execution_count": 4,
   "metadata": {
    "collapsed": true
   },
   "outputs": [],
   "source": [
    "#  分数（10）\n",
    "## TODO 请编写word_segment_naive函数来实现对输入字符串的分词\n",
    "def word_segment_naive(input_str):\n",
    "    \"\"\"\n",
    "    1. 对于输入字符串做分词，并返回所有可行的分词之后的结果。\n",
    "    2. 针对于每一个返回结果，计算句子的概率\n",
    "    3. 返回概率最高的最作为最后结果\n",
    "    \n",
    "    input_str: 输入字符串   输入格式：“今天天气好”\n",
    "    best_segment: 最好的分词结果  输出格式：[\"今天\"，\"天气\"，\"好\"]\n",
    "    \"\"\"\n",
    "\n",
    "    # TODO： 第一步： 计算所有可能的分词结果，要保证每个分完的词存在于词典里，这个结果有可能会非常多。 \n",
    "    # 存储所有分词的结果。如果次字符串不可能被完全切分，则返回空列表(list)\n",
    "    # 格式为：segments = [[\"今天\"，“天气”，“好”],[\"今天\"，“天“，”气”，“好”],[\"今“，”天\"，“天气”，“好”],...]\n",
    "    segments = all_possible_segmentations(input_str,word_prob)\n",
    " \n",
    "    \n",
    "    # TODO: 第二步：循环所有的分词结果，并计算出概率最高的分词结果，并返回\n",
    "    best_segment = None\n",
    "    best_score = float('inf')\n",
    "    for seg in segments:\n",
    "        # TODO ...\n",
    "        res_log = get_negative_logp(seg,word_prob)\n",
    "        if res_log < best_score:\n",
    "            best_score = res_log\n",
    "            best_segment = seg\n",
    "    return best_segment      "
   ]
  },
  {
   "cell_type": "code",
   "execution_count": 5,
   "metadata": {
    "collapsed": true
   },
   "outputs": [
    {
     "name": "stdout",
     "output_type": "stream",
     "text": [
      "['北京', '的', '天气', '真好啊']\n",
      "['今天', '的', '课程', '内容', '很有', '意思']\n",
      "['经常', '有意见', '分歧']\n"
     ]
    }
   ],
   "source": [
    "# 测试\n",
    "print(word_segment_naive(\"北京的天气真好啊\"))\n",
    "print(word_segment_naive(\"今天的课程内容很有意思\"))\n",
    "print(word_segment_naive(\"经常有意见分歧\"))"
   ]
  },
  {
   "cell_type": "markdown",
   "metadata": {},
   "source": [
    "### Part 1.2  基于维特比算法来优化上述流程\n",
    "\n",
    "此项目需要的数据：\n",
    "1. 综合类中文词库.xlsx： 包含了中文词，当做词典来用\n",
    "2. 以变量的方式提供了部分unigram概率word_prob\n",
    "\n",
    "\n",
    "举个例子： 给定词典=[我们 学习 人工 智能 人工智能 未来 是]， 另外我们给定unigram概率：p(我们)=0.25, p(学习)=0.15, p(人工)=0.05, p(智能)=0.1, p(人工智能)=0.2, p(未来)=0.1, p(是)=0.15\n",
    "\n",
    "#### Step 1: 根据词典，输入的句子和 word_prob来创建带权重的有向图（Directed Graph） 参考：课程内容\n",
    "有向图的每一条边是一个单词的概率（只要存在于词典里的都可以作为一个合法的单词），这些概率已经给出（存放在word_prob）。\n",
    "注意：思考用什么方式来存储这种有向图比较合适？ 不一定只有一种方式来存储这种结构。 \n",
    "\n",
    "#### Step 2: 编写维特比算法（viterebi）算法来找出其中最好的PATH， 也就是最好的句子切分\n",
    "具体算法参考课程中讲过的内容\n",
    "\n",
    "#### Step 3: 返回结果\n",
    "跟PART 1.1的要求一致"
   ]
  },
  {
   "cell_type": "code",
   "execution_count": 6,
   "metadata": {},
   "outputs": [],
   "source": [
    "# 先把图的一些方法写出来\n",
    "# 基于动态规划的维特比算法\n",
    "\n",
    "# 例子： 经常有意见分歧\n",
    "# 词典： [经常，经，有，有意见，意见，分歧，见，意，见分歧，分] 其他\n",
    "# -logx [2.3, 3, 2.3, 2.3,  1.6,1.6,  3, 3,   3,  2.3] 20\n",
    "\n",
    "# 第一步。首先创建有向权重图，采用矩阵的方式\n",
    "class Graph:\n",
    "    def __init__(self,node_num,default_flag=None):\n",
    "        '''\n",
    "        node_num:节点的个数，== len(sentence) + 1\n",
    "        default_flag:矩阵默认填充的值\n",
    "        '''\n",
    "        self.graph_matrix = [[default_flag for i in range(node_num)] for i in range(node_num)]\n",
    "        #print('init matrix')\n",
    "        #self.print_matrix()\n",
    "    \n",
    "    def add_vertex(self,sentence,log_dict,max_window_len = 3,default_log=20.0):\n",
    "        '''\n",
    "        sentence:要添加边的句子\n",
    "        log_dict:关于单词和-logp的字典\n",
    "        max_window_len:最长的窗口长度\n",
    "        '''\n",
    "        \n",
    "        seq_len = len(sentence)\n",
    "        \n",
    "        # 首先将句子切割\n",
    "        for i in range(seq_len):\n",
    "            char = sentence[i]\n",
    "            weight = default_log\n",
    "            if char in log_dict:\n",
    "                weight = log_dict[char]\n",
    "            self.graph_matrix[i][i+1] = weight\n",
    "        #print('struct single node')\n",
    "        #self.print_matrix()\n",
    "            \n",
    "        \n",
    "        for win_len in range(2,max_window_len + 1):\n",
    "            for start_index in range(0,seq_len - win_len + 1):\n",
    "                char = sentence[start_index:start_index + win_len]\n",
    "                if char in log_dict:\n",
    "                    self.graph_matrix[start_index][start_index+ win_len] = log_dict[char]\n",
    "        \n",
    "        #print('final matrix')\n",
    "        #self.print_matrix()\n",
    "        \n",
    "    def get_graph(self):\n",
    "        return self.graph_matrix\n",
    "    \n",
    "    def print_matrix(self):\n",
    "        for se_list in self.graph_matrix:\n",
    "            print(se_list)"
   ]
  },
  {
   "cell_type": "code",
   "execution_count": 7,
   "metadata": {},
   "outputs": [],
   "source": [
    "def init_graph(sentence,log_dict,default_log=20.0,default_flag=None):\n",
    "    # 1.首先应该建立有向权重图\n",
    "    seq_len = len(sentence)\n",
    "    node_num = seq_len + 1\n",
    "    graph = Graph(node_num,default_flag)\n",
    "    # 设置最大窗口长度\n",
    "    max_window_len = 3\n",
    "    graph.add_vertex(sentence,log_dict,3,default_log)\n",
    "    graph_matrix = graph.get_graph()\n",
    "    return graph_matrix\n",
    "\n",
    "def get_viterbi_from_graph(graph_matrix,node_num,default_flag):\n",
    "    # 2. 动态规划解决viterbi问题\n",
    "    # 存储动态规划的值\n",
    "    dp = [float('Inf') for i in range(node_num)]\n",
    "    dp[0] = 0.0\n",
    "    # 存储从哪步跳转过来的节点\n",
    "    route = [-1 for i in range(node_num)]\n",
    "    # 动态规划解决\n",
    "    for i in range(1,node_num):\n",
    "        # 存储最优值的相关信息\n",
    "        min_weight = float('inf')\n",
    "        best_index = None\n",
    "        # 确定到达i节点的边\n",
    "        for j in range(i):\n",
    "            if graph_matrix[j][i] != default_flag:\n",
    "                if graph_matrix[j][i] + dp[j] < min_weight:\n",
    "                    min_weight = graph_matrix[j][i] + dp[j]\n",
    "                    best_index = j\n",
    "        # 浮点数不精确，保留一位\n",
    "        dp[i] = round(min_weight,1)\n",
    "        #print('%d ---> %s'%(i,str(dp[i])))\n",
    "        route[i] = best_index\n",
    "    return dp,route\n",
    "\n",
    "def get_cut_result(sentence,dp,route):\n",
    "    result_log = dp[-1]\n",
    "    word_list = []\n",
    "    seq_len = len(sentence)\n",
    "    node_num = seq_len + 1\n",
    "    \n",
    "    start_index = node_num - 1\n",
    "    while start_index > 0:\n",
    "        prev_index = route[start_index]\n",
    "        word_list.insert(0,sentence[prev_index:start_index])\n",
    "        start_index = prev_index\n",
    "    return word_list"
   ]
  },
  {
   "cell_type": "code",
   "execution_count": 8,
   "metadata": {
    "collapsed": true
   },
   "outputs": [],
   "source": [
    "# 分数（10）\n",
    "\n",
    "## TODO 请编写word_segment_viterbi函数来实现对输入字符串的分词\n",
    "def word_segment_viterbi(input_str):\n",
    "    \"\"\"\n",
    "    1. 基于输入字符串，词典，以及给定的unigram概率来创建DAG(有向图）。\n",
    "    2. 编写维特比算法来寻找最优的PATH\n",
    "    3. 返回分词结果\n",
    "    \n",
    "    input_str: 输入字符串   输入格式：“今天天气好”\n",
    "    best_segment: 最好的分词结果  输出格式：[\"今天\"，\"天气\"，\"好\"]\n",
    "    \"\"\"\n",
    "    \n",
    "    # TODO: 第一步：根据词典，输入的句子，以及给定的unigram概率来创建带权重的有向图（Directed Graph） 参考：课程内容\n",
    "    #      有向图的每一条边是一个单词的概率（只要存在于词典里的都可以作为一个合法的单词），这些概率在 word_prob，如果不在word_prob里的单词但在\n",
    "    #      词典里存在的，统一用概率值0.00001。\n",
    "    #      注意：思考用什么方式来存储这种有向图比较合适？ 不一定有只有一种方式来存储这种结构。 \n",
    "    default_log = -math.log(0.00001)\n",
    "    word_log = dict()\n",
    "    for key,value in word_prob.items():\n",
    "        word_log[key] = -math.log(value)\n",
    "    \n",
    "    \n",
    "    graph = init_graph(input_str,word_log,default_log,default_flag=None)\n",
    "    \n",
    "    # TODO： 第二步： 利用维特比算法来找出最好的PATH， 这个PATH是P(sentence)最大或者 -log P(sentence)最小的PATH。\n",
    "    #              hint: 思考为什么不用相乘: p(w1)p(w2)...而是使用negative log sum:  -log(w1)-log(w2)-...\n",
    "    \n",
    "    dp,route = get_viterbi_from_graph(graph,len(input_str) + 1,default_flag=None)\n",
    "    # TODO: 第三步： 根据最好的PATH, 返回最好的切分\n",
    "    #print(dp)\n",
    "    #print(route)\n",
    "    best_segment = get_cut_result(input_str,dp,route)\n",
    "    return best_segment      "
   ]
  },
  {
   "cell_type": "code",
   "execution_count": 9,
   "metadata": {
    "collapsed": true
   },
   "outputs": [
    {
     "name": "stdout",
     "output_type": "stream",
     "text": [
      "['北京', '的', '天气', '真好啊']\n",
      "['今天', '的', '课程', '内容', '很有', '意思']\n",
      "['经常', '有意见', '分歧']\n"
     ]
    }
   ],
   "source": [
    "# 测试\n",
    "print(word_segment_viterbi(\"北京的天气真好啊\"))\n",
    "print(word_segment_viterbi(\"今天的课程内容很有意思\"))\n",
    "print(word_segment_viterbi(\"经常有意见分歧\"))"
   ]
  },
  {
   "cell_type": "code",
   "execution_count": 10,
   "metadata": {
    "collapsed": true
   },
   "outputs": [
    {
     "ename": "SyntaxError",
     "evalue": "invalid character in identifier (<ipython-input-10-f4151c531de7>, line 3)",
     "output_type": "error",
     "traceback": [
      "\u001b[0;36m  File \u001b[0;32m\"<ipython-input-10-f4151c531de7>\"\u001b[0;36m, line \u001b[0;32m3\u001b[0m\n\u001b[0;31m    第一个方法：\u001b[0m\n\u001b[0m         ^\u001b[0m\n\u001b[0;31mSyntaxError\u001b[0m\u001b[0;31m:\u001b[0m invalid character in identifier\n"
     ]
    }
   ],
   "source": [
    "# 分数（3）\n",
    "# TODO: 第一种方法和第二种方法的时间复杂度和空间复杂度分别是多少？\n",
    "第一个方法： \n",
    "时间复杂度= O(n^2), 空间复杂度= O(n)\n",
    "\n",
    "第二个方法：\n",
    "时间复杂度= O(n), 空间复杂度= O(n^2)"
   ]
  },
  {
   "cell_type": "code",
   "execution_count": null,
   "metadata": {
    "collapsed": true
   },
   "outputs": [],
   "source": [
    "# 分数（2）\n",
    "# TODO：如果把上述的分词工具持续优化，有哪些可以考虑的方法？ （至少列出3点）\n",
    "- 0. （例）， 目前的概率是不完整的，可以考虑大量的语料库，然后从中计算出每一个词出现的概率，这样更加真实\n",
    "- 1. 首先分词是根据词语在预料库中出现的频次，预料库的信息可能和任务背景不同\n",
    "- 2. 可以经分词工具中一些常用的词，如的，地去掉，更加准确\n",
    "- 3. 并未考虑语义，只是简单的计算最有可能的切词方法"
   ]
  },
  {
   "cell_type": "markdown",
   "metadata": {},
   "source": []
  },
  {
   "cell_type": "markdown",
   "metadata": {},
   "source": [
    "## Part 2:  搭建一个简单的问答系统"
   ]
  },
  {
   "cell_type": "markdown",
   "metadata": {},
   "source": [
    "本次项目的目标是搭建一个基于检索式的简单的问答系统。至于什么是检索式的问答系统请参考课程直播内容/PPT介绍。 \n",
    "\n",
    "通过此项目，你将会有机会掌握以下几个知识点：\n",
    "1. 字符串操作   2. 文本预处理技术（词过滤，标准化）   3. 文本的表示（tf-idf, word2vec)  4. 文本相似度计算  5. 文本高效检索\n",
    "\n",
    "此项目需要的数据：\n",
    "1. dev-v2.0.json: 这个数据包含了问题和答案的pair， 但是以JSON格式存在，需要编写parser来提取出里面的问题和答案。 \n",
    "2. glove.6B: 这个文件需要从网上下载，下载地址为：https://nlp.stanford.edu/projects/glove/， 请使用d=100的词向量\n",
    "\n",
    "##### 检索式的问答系统\n",
    "问答系统所需要的数据已经提供，对于每一个问题都可以找得到相应的答案，所以可以理解为每一个样本数据是 <问题、答案>。 那系统的核心是当用户输入一个问题的时候，首先要找到跟这个问题最相近的已经存储在库里的问题，然后直接返回相应的答案即可。 举一个简单的例子：\n",
    "\n",
    "假设我们的库里面已有存在以下几个<问题,答案>：\n",
    "<\"贪心学院主要做什么方面的业务？”， “他们主要做人工智能方面的教育”>\n",
    "<“国内有哪些做人工智能教育的公司？”， “贪心学院”>\n",
    "<\"人工智能和机器学习的关系什么？\", \"其实机器学习是人工智能的一个范畴，很多人工智能的应用要基于机器学习的技术\">\n",
    "<\"人工智能最核心的语言是什么？\"， ”Python“>\n",
    ".....\n",
    "\n",
    "假设一个用户往系统中输入了问题 “贪心学院是做什么的？”， 那这时候系统先去匹配最相近的“已经存在库里的”问题。 那在这里很显然是 “贪心学院是做什么的”和“贪心学院主要做什么方面的业务？”是最相近的。 所以当我们定位到这个问题之后，直接返回它的答案 “他们主要做人工智能方面的教育”就可以了。 所以这里的核心问题可以归结为计算两个问句（query）之间的相似度。\n",
    "\n",
    "在本次项目中，你会频繁地使用到sklearn这个机器学习库。具体安装请见：http://scikit-learn.org/stable/install.html  sklearn包含了各类机器学习算法和数据处理工具，包括本项目需要使用的词袋模型，均可以在sklearn工具包中找得到。 另外，本项目还需要用到分词工具jieba, 具体使用方法请见 https://github.com/fxsjy/jieba"
   ]
  },
  {
   "cell_type": "markdown",
   "metadata": {},
   "source": [
    "### Part 2.1  第一部分： 读取文件，并把内容分别写到两个list里（一个list对应问题集，另一个list对应答案集）"
   ]
  },
  {
   "cell_type": "code",
   "execution_count": 10,
   "metadata": {
    "collapsed": true
   },
   "outputs": [],
   "source": [
    "# 分数（5）\n",
    "import json\n",
    "def read_corpus():\n",
    "    \"\"\"\n",
    "    读取给定的语料库，并把问题列表和答案列表分别写入到 qlist, alist 里面。 在此过程中，不用对字符换做任何的处理（这部分需要在 Part 2.3里处理）\n",
    "    qlist = [\"问题1\"， “问题2”， “问题3” ....]\n",
    "    alist = [\"答案1\", \"答案2\", \"答案3\" ....]\n",
    "    务必要让每一个问题和答案对应起来（下标位置一致）\n",
    "    \"\"\"\n",
    "    # 每个问题只取第一个答案\n",
    "    file_path = './data/dev-v2.0.json'\n",
    "    json_data = json.load(open(file_path))\n",
    "    data = json_data['data']\n",
    "    qlist = []\n",
    "    alist = []\n",
    "    \n",
    "    for dic in data:\n",
    "        paragraphs = dic['paragraphs']\n",
    "        for par in paragraphs:\n",
    "            qas = par['qas']\n",
    "            for qa in qas:\n",
    "                if qa['answers'] != []:\n",
    "                    answer = qa['answers'][0]['text']\n",
    "                    question = qa['question']\n",
    "                    qlist.append(question)\n",
    "                    alist.append(answer)\n",
    "    \n",
    "    assert len(qlist) == len(alist)  # 确保长度一样\n",
    "    return qlist, alist"
   ]
  },
  {
   "cell_type": "markdown",
   "metadata": {},
   "source": [
    "### Part 2.2 理解数据（可视化分析/统计信息）\n",
    "对数据的理解是任何AI工作的第一步，需要充分对手上的数据有个更直观的理解。 "
   ]
  },
  {
   "cell_type": "code",
   "execution_count": 11,
   "metadata": {
    "collapsed": true
   },
   "outputs": [
    {
     "name": "stdout",
     "output_type": "stream",
     "text": [
      "单词总共出现的个数： 29762\n",
      "出现不同的单词个数： 5495\n"
     ]
    }
   ],
   "source": [
    "# 分数（10）\n",
    "# TODO: 统计一下在qlist 总共出现了多少个单词？ 总共出现了多少个不同的单词？\n",
    "#       这里需要做简单的分词，对于英文我们根据空格来分词即可，其他过滤暂不考虑（只需分词）\n",
    "\n",
    "\n",
    "import string\n",
    "import re\n",
    "\n",
    "# 去掉标点符号，用空格分词，词的总数，得到词-词频字典\n",
    "def get_word_frequency(lst):\n",
    "    # 总共出现单词的个数\n",
    "    total_word = 0\n",
    "    word_dict = {}\n",
    "    for line in lst:\n",
    "        # 去掉标点符号\n",
    "        regex = re.compile('[%s]' % re.escape(string.punctuation))\n",
    "        sentence = regex.sub('', line)\n",
    "        # 切词\n",
    "        for word in sentence.split():\n",
    "            word_dict[word] = word_dict.get(word,0) + 1\n",
    "            total_word += 1\n",
    "    return total_word,word_dict\n",
    "    \n",
    "\n",
    "qlist,alist = read_corpus()\n",
    "word_total,word_dict = get_word_frequency(qlist)\n",
    "total_diff_word_num = len(word_dict)\n",
    "print ('单词总共出现的个数：',str(word_total))\n",
    "print('出现不同的单词个数：',str(total_diff_word_num))"
   ]
  },
  {
   "cell_type": "code",
   "execution_count": 12,
   "metadata": {
    "collapsed": true
   },
   "outputs": [
    {
     "name": "stdout",
     "output_type": "stream",
     "text": [
      "['the', 'What', 'of', 'to', 'in']\n",
      "[2046, 1288, 1250, 721, 626]\n"
     ]
    },
    {
     "data": {
      "image/png": "[encoded data removed]",
      "text/plain": [
       "<Figure size 1440x720 with 1 Axes>"
      ]
     },
     "metadata": {
      "needs_background": "light"
     },
     "output_type": "display_data"
    }
   ],
   "source": [
    "# TODO: 统计一下qlist中每个单词出现的频率，并把这些频率排一下序，然后画成plot. 比如总共出现了总共7个不同单词，而且每个单词出现的频率为 4, 5,10,2, 1, 1,1\n",
    "#       把频率排序之后就可以得到(从大到小) 10, 5, 4, 2, 1, 1, 1. 然后把这7个数plot即可（从大到小）\n",
    "#       需要使用matplotlib里的plot函数。y轴是词频\n",
    "import matplotlib.pyplot as plt\n",
    "%matplotlib inline\n",
    "\n",
    "# 首先需要给word_dict 按照values 降序排列\n",
    "word_sorted_list = sorted(word_dict.items(),key = lambda x:x[1],reverse = True)\n",
    "word_list = []\n",
    "frequence_list = []\n",
    "for (key,value) in word_sorted_list:\n",
    "    word_list.append(key)\n",
    "    frequence_list.append(value)\n",
    "\n",
    "print(word_list[:5])\n",
    "print(frequence_list[:5])\n",
    "\n",
    "plt.figure(figsize=(20,10))\n",
    "x = range(total_diff_word_num)\n",
    "plt.plot(x,frequence_list,'o')\n",
    "plt.ylabel('word frequecey')\n",
    "plt.show()"
   ]
  },
  {
   "cell_type": "code",
   "execution_count": 13,
   "metadata": {
    "collapsed": true
   },
   "outputs": [
    {
     "data": {
      "image/png": "[encoded data removed]",
      "text/plain": [
       "<Figure size 1440x360 with 1 Axes>"
      ]
     },
     "metadata": {
      "needs_background": "light"
     },
     "output_type": "display_data"
    }
   ],
   "source": [
    "# TODO： 从上面的图中能观察到什么样的现象？ 这样的一个图的形状跟一个非常著名的函数形状很类似，能所出此定理吗？ \n",
    "#       hint: [XXX]'s law\n",
    "\n",
    "# 统计语言的定理zip law 在给定的语料中，对于任意一个term，其频度(freq)的排名（rank）和freq的乘积大致是一个常数\n",
    "# 那我就画一下排名和freq的乘积\n",
    "\n",
    "constant_list = []\n",
    "for i in range(total_diff_word_num):\n",
    "    constant_list.append((i+1) * frequence_list[i])\n",
    "    \n",
    "plt.figure(figsize=(20,5))\n",
    "plt.plot(x,constant_list,'o')\n",
    "plt.ylabel('rank * freq')\n",
    "plt.show()\n",
    "\n",
    "# 可以从下面的图像看出确实在一个范围区间"
   ]
  },
  {
   "cell_type": "markdown",
   "metadata": {},
   "source": [
    "### 2.3 文本预处理\n",
    "次部分需要尝试做文本的处理。在这里我们面对的是英文文本，所以任何对英文适合的技术都可以考虑进来。"
   ]
  },
  {
   "cell_type": "code",
   "execution_count": 14,
   "metadata": {
    "collapsed": true
   },
   "outputs": [
    {
     "name": "stderr",
     "output_type": "stream",
     "text": [
      "[nltk_data] Downloading package stopwords to\n",
      "[nltk_data]     /Users/fengjiaxin/nltk_data...\n",
      "[nltk_data]   Package stopwords is already up-to-date!\n"
     ]
    },
    {
     "data": {
      "image/png": "[encoded data removed]",
      "text/plain": [
       "<Figure size 1440x576 with 1 Axes>"
      ]
     },
     "metadata": {
      "needs_background": "light"
     },
     "output_type": "display_data"
    }
   ],
   "source": [
    "# 分数（10）\n",
    "\n",
    "# TODO: 对于qlist, alist做文本预处理操作。 可以考虑以下几种操作：\n",
    "#       1. 停用词过滤 （去网上搜一下 \"english stop words list\"，会出现很多包含停用词库的网页，或者直接使用NLTK自带的）   \n",
    "#       2. 转换成lower_case： 这是一个基本的操作   \n",
    "#       3. 去掉一些无用的符号： 比如连续的感叹号！！！， 或者一些奇怪的单词。\n",
    "#       4. 去掉出现频率很低的词：比如出现次数少于10,20....\n",
    "#       5. 对于数字的处理： 分词完只有有些单词可能就是数字比如44，415，把所有这些数字都看成是一个单词，这个新的单词我们可以定义为 \"#number\"\n",
    "#       6. stemming（利用porter stemming): 因为是英文，所以stemming也是可以做的工作\n",
    "#       7. 其他（如果有的话）\n",
    "#       请注意，不一定要按照上面的顺序来处理，具体处理的顺序思考一下，然后选择一个合理的顺序\n",
    "#  hint: 停用词用什么数据结构来存储？ 不一样的数据结构会带来完全不一样的效率！ \n",
    "\n",
    "# \n",
    "import nltk\n",
    "from nltk.corpus import stopwords\n",
    "nltk.download('stopwords')\n",
    "from nltk.stem.porter import PorterStemmer\n",
    " \n",
    "stemmer = PorterStemmer()\n",
    "stopwords = set(stopwords.words('english'))\n",
    "\n",
    "# 预处理文本，1，去掉标点 2.去掉停用词 3. 数字的处理 4.stemming\n",
    "def preprocessing(lst):\n",
    "    # 新的句子分词后的结果\n",
    "    new_list = []\n",
    "    # word_dic:词 - 词频字典\n",
    "    word_dic = dict()\n",
    "    for line in lst:\n",
    "        # 去掉标点符号\n",
    "        regex = re.compile('[%s]' % re.escape(string.punctuation))\n",
    "        sentence = regex.sub('', line)\n",
    "        # 切词\n",
    "        sentence = sentence.lower()\n",
    "        words = sentence.split()\n",
    "        \n",
    "        temp = []\n",
    "        for word in words:\n",
    "            # 去掉停用词\n",
    "            if word not in stopwords:\n",
    "                # 判断是不是数字\n",
    "                word = '#number' if word.isdigit() else word\n",
    "                # stem\n",
    "                w = stemmer.stem(word)\n",
    "                word_dic[w] = word_dic.get(w,0) + 1\n",
    "                temp.append(w)\n",
    "        new_list.append(temp)\n",
    "    return word_dic,new_list\n",
    "        \n",
    "# 预处理后可以得到一个词-词频的字典\n",
    "# 画出图\n",
    "def draw_freq_graph(word_freq_dict,name):\n",
    "    plt.figure(figsize = (20,8))\n",
    "    freq_list = list(word_freq_dict.values())\n",
    "    freq_list.sort(reverse=True)\n",
    "    plt.plot(range(len(freq_list)),freq_list,'o')\n",
    "    plt.ylabel(name)\n",
    "    plt.show()\n",
    "    \n",
    "# 统计频率\n",
    "q_word_dic,q_new_list = preprocessing(qlist)\n",
    "# 个人觉得没必要对answer也进行处理，知识问答系统的核心是找到相似的问题\n",
    "#a_word_dic,a_new_list = preprocessing(alist)\n",
    "# 画图\n",
    "draw_freq_graph(q_word_dic,'qlist word frequency')\n",
    "#draw_freq_graph(a_word_dic,'alist word frequency')"
   ]
  },
  {
   "cell_type": "code",
   "execution_count": 16,
   "metadata": {},
   "outputs": [],
   "source": [
    "def filter_words(word_dict,lst,lower,upper):\n",
    "    '''\n",
    "    过滤掉词之后，同时也需要修改句子列表\n",
    "    '''\n",
    "    new_word_list = []\n",
    "    for key,value in word_dict.items():\n",
    "        if lower <= value and value <= upper:\n",
    "            new_word_list.append(key)\n",
    "    new_list = []\n",
    "    for line in lst:\n",
    "        words = [w for w in line if w in new_word_list]\n",
    "        new_list.append(' '.join(words))\n",
    "    return new_word_list,new_list\n",
    "\n",
    "# 更新后的数据\n",
    "q_word_list,qlist = filter_words(q_word_dic,q_new_list,2,200)\n",
    "#alist = filter_words(a_word_dic,a_new_list,2,100)"
   ]
  },
  {
   "cell_type": "code",
   "execution_count": 17,
   "metadata": {
    "collapsed": true
   },
   "outputs": [
    {
     "name": "stdout",
     "output_type": "stream",
     "text": [
      "['countri normandi locat', 'norman normandi', 'countri nors origin', 'nors leader', 'centuri norman first gain separ ident']\n"
     ]
    }
   ],
   "source": [
    "# TODO: 在前面步骤里，我们删除了出现次数比较少的单词，那你选择的阈值是多少（小于多少的去掉？）， 这个阈值是根据什么来选择的？ \n",
    "# 词过滤，根据图像断层是否严重\n",
    "print(qlist[:5])"
   ]
  },
  {
   "cell_type": "markdown",
   "metadata": {},
   "source": [
    "### 2.4 文本表示\n",
    "当我们做完关键的预处理过程之后，就需要把每一个文本转换成向量。"
   ]
  },
  {
   "cell_type": "code",
   "execution_count": 18,
   "metadata": {
    "collapsed": true
   },
   "outputs": [],
   "source": [
    "# 分数（10）\n",
    "\n",
    "# TODO: 把qlist中的每一个问题字符串转换成tf-idf向量, 转换之后的结果存储在X矩阵里。 X的大小是： N* D的矩阵。 这里N是问题的个数（样本个数），\n",
    "#       D是字典库的大小。 \n",
    "\n",
    "from sklearn.feature_extraction.text import TfidfVectorizer\n",
    "vectorizer = TfidfVectorizer(smooth_idf=False)\n",
    "X = vectorizer.fit_transform(qlist)"
   ]
  },
  {
   "cell_type": "code",
   "execution_count": 19,
   "metadata": {
    "collapsed": true
   },
   "outputs": [
    {
     "name": "stdout",
     "output_type": "stream",
     "text": [
      "sparsity: 0.0025922046419317494\n"
     ]
    }
   ],
   "source": [
    "# TODO: 矩阵X有什么特点？ 计算一下它的稀疏度\n",
    "\n",
    "# 计算sparsity\n",
    "x_mat = X.toarray()\n",
    "# 句子长度\n",
    "n = len(x_mat)\n",
    "# 词典大小\n",
    "d = len(x_mat[0])\n",
    "\n",
    "# 统计矩阵不为1的个数\n",
    "t = 0\n",
    "for i in range(n):\n",
    "    for j in range(d):\n",
    "        if x_mat[i][j] != 0:\n",
    "            t += 1\n",
    "sparsity = t / (n * d)\n",
    "print('sparsity:',str(sparsity))"
   ]
  },
  {
   "cell_type": "markdown",
   "metadata": {},
   "source": [
    "### 2.5 对于用户的输入问题，找到相似度最高的TOP5问题，并把5个潜在的答案做返回"
   ]
  },
  {
   "cell_type": "code",
   "execution_count": 20,
   "metadata": {
    "collapsed": true
   },
   "outputs": [],
   "source": [
    "# 分数（10）\n",
    "from sklearn.metrics.pairwise import cosine_similarity\n",
    "def top5results(input_q):\n",
    "    \"\"\"\n",
    "    给定用户输入的问题 input_q, 返回最有可能的TOP 5问题。这里面需要做到以下几点：\n",
    "    1. 对于用户的输入 input_q 首先做一系列的预处理，然后再转换成tf-idf向量（利用上面的vectorizer)\n",
    "    2. 计算跟每个库里的问题之间的相似度\n",
    "    3. 找出相似度最高的top5问题的答案\n",
    "    \"\"\"\n",
    "    # 首先对input_q进行预处理\n",
    "    # 去掉标点符号\n",
    "    regex = re.compile('[%s]' % re.escape(string.punctuation))\n",
    "    sentence = regex.sub('', input_q)\n",
    "    # 切词\n",
    "    sentence = sentence.lower()\n",
    "    words = sentence.split()\n",
    "\n",
    "    temp = []\n",
    "    for word in words:\n",
    "        # 去掉停用词\n",
    "        if word not in stopwords:\n",
    "            # 判断是不是数字\n",
    "            word = '#number' if word.isdigit() else word\n",
    "            # stem\n",
    "            w = stemmer.stem(word)\n",
    "            temp.append(w)\n",
    "    \n",
    "    input_seq = ' '.join(temp)\n",
    "    input_vec = vectorizer.transform([input_seq])\n",
    "    res = cosine_similarity(input_vec,X)[0]\n",
    "    \n",
    "    # 存储id,cos相似度的字典\n",
    "    score_idx = dict((i,v) for i,v in enumerate(res))\n",
    "    # 对score_idx排序\n",
    "    sorted_id_score = sorted(score_idx.items(),key=lambda x:x[1],reverse=True)\n",
    "    # 获取排序后的id\n",
    "    sorted_idx = [item[0] for item in sorted_id_score]\n",
    "    top_idxs = sorted_idx[:5]\n",
    "    result_list = [alist[i] for i in top_idxs]\n",
    "    return result_list"
   ]
  },
  {
   "cell_type": "code",
   "execution_count": 22,
   "metadata": {
    "collapsed": true
   },
   "outputs": [
    {
     "name": "stdout",
     "output_type": "stream",
     "text": [
      "['dispute over control of the confluence of the Allegheny and Monongahela rivers, called the Forks of the Ohio', 'Chevrolet Bel Air', 'Kublai Khan', 'railway locomotives', 'After liberation']\n",
      "['aggressiveness', 'the referendum in France and the referendum in the Netherlands', 'Viking', 'Latin', 'Wianki']\n"
     ]
    }
   ],
   "source": [
    "# TODO: 编写几个测试用例，并输出结果\n",
    "print (top5results(\"when did Beyonce start becoming popular\"))\n",
    "print (top5results(\"what languge does the word of 'symbiosis' come from\"))"
   ]
  },
  {
   "cell_type": "code",
   "execution_count": 21,
   "metadata": {
    "collapsed": true
   },
   "outputs": [
    {
     "ename": "SyntaxError",
     "evalue": "invalid character in identifier (<ipython-input-21-e69bbc4c5187>, line 5)",
     "output_type": "error",
     "traceback": [
      "\u001b[0;36m  File \u001b[0;32m\"<ipython-input-21-e69bbc4c5187>\"\u001b[0;36m, line \u001b[0;32m5\u001b[0m\n\u001b[0;31m    时间复杂度 = O(N * D)， 空间复杂度 = O(N * D)\u001b[0m\n\u001b[0m                    ^\u001b[0m\n\u001b[0;31mSyntaxError\u001b[0m\u001b[0;31m:\u001b[0m invalid character in identifier\n"
     ]
    }
   ],
   "source": [
    "# 分数（5）\n",
    "\n",
    "# TODO: 上面的top5results算法的时间复杂度和空间复杂度分别是多少？\n",
    "\n",
    "时间复杂度 = O(N * D)， 空间复杂度 = O(N * D)"
   ]
  },
  {
   "cell_type": "markdown",
   "metadata": {},
   "source": [
    "### 2.6 利用倒排表的优化。 \n",
    "上面的算法，一个最大的缺点是每一个用户问题都需要跟库里的所有的问题都计算相似度。假设我们库里的问题非常多，这将是效率非常低的方法。 这里面一个方案是通过倒排表的方式，先从库里面找到跟当前的输入类似的问题描述。然后针对于这些candidates问题再做余弦相似度的计算。这样会节省大量的时间。"
   ]
  },
  {
   "cell_type": "code",
   "execution_count": 22,
   "metadata": {},
   "outputs": [
    {
     "data": {
      "text/plain": [
       "['countri normandi locat',\n",
       " 'norman normandi',\n",
       " 'countri nors origin',\n",
       " 'nors leader',\n",
       " 'centuri norman first gain separ ident']"
      ]
     },
     "execution_count": 22,
     "metadata": {},
     "output_type": "execute_result"
    }
   ],
   "source": [
    "qlist[:5]"
   ]
  },
  {
   "cell_type": "code",
   "execution_count": 23,
   "metadata": {
    "collapsed": true
   },
   "outputs": [],
   "source": [
    "# 分数（10）\n",
    "\n",
    "# TODO: 基于倒排表的优化。在这里，我们可以定义一个类似于hash_map, 比如 inverted_index = {}， 然后存放包含每一个关键词的文档出现在了什么位置，\n",
    "#       也就是，通过关键词的搜索首先来判断包含这些关键词的文档（比如出现至少一个），然后对于candidates问题做相似度比较。\n",
    "# \n",
    "inverted_idx = {}  # 定一个一个简单的倒排表\n",
    "for question_id,line in enumerate(qlist):\n",
    "    for word in line.split():\n",
    "        if word not in inverted_idx:\n",
    "            inverted_idx[word] = set()\n",
    "        inverted_idx[word].add(question_id)\n",
    "        \n",
    "# inverted:key是word ，value是 quesiton_id的set集合\n",
    "def top5results_invidx(input_q):\n",
    "    \"\"\"\n",
    "    给定用户输入的问题 input_q, 返回最有可能的TOP 5问题。这里面需要做到以下几点：\n",
    "    1. 利用倒排表来筛选 candidate\n",
    "    2. 对于用户的输入 input_q 首先做一系列的预处理，然后再转换成tf-idf向量（利用上面的vectorizer)\n",
    "    3. 计算跟每个库里的问题之间的相似度\n",
    "    4. 找出相似度最高的top5问题的答案\n",
    "    \"\"\"\n",
    "    # 1.首先对input_q进行预处理\n",
    "    # 去掉标点符号\n",
    "    regex = re.compile('[%s]' % re.escape(string.punctuation))\n",
    "    sentence = regex.sub('', input_q)\n",
    "    # 切词\n",
    "    sentence = sentence.lower()\n",
    "    words = sentence.split()\n",
    "\n",
    "    temp = []\n",
    "    for word in words:\n",
    "        # 去掉停用词\n",
    "        if word not in stopwords:\n",
    "            # 判断是不是数字\n",
    "            word = '#number' if word.isdigit() else word\n",
    "            # stem\n",
    "            w = stemmer.stem(word)\n",
    "            temp.append(w)\n",
    "    input_seq = ' '.join(temp)\n",
    "    \n",
    "    \n",
    "    # 2.获取包含关键词的文档(至少出现一次)\n",
    "    candidate = set()\n",
    "    for word in input_seq.split(' '):\n",
    "        if word in inverted_idx:\n",
    "            candidate = candidate | inverted_idx[word] \n",
    "    \n",
    "    # 3.对input_seq 进行向量处理\n",
    "    input_vec = vectorizer.transform([input_seq])\n",
    "    \n",
    "    # 4.和问题进行相似度比较\n",
    "    candidate_qlist = [qlist[i] for i in candidate]\n",
    "    X = vectorizer.fit_transform(candidate_qlist)\n",
    "    res = cosine_similarity(input_vec,X)[0]\n",
    "    \n",
    "    # 5.选出top5\n",
    "    # 存储id,cos相似度的字典\n",
    "    score_idx = dict((i,v) for i,v in enumerate(res))\n",
    "    # 对score_idx排序\n",
    "    sorted_id_score = sorted(score_idx.items(),key=lambda x:x[1],reverse=True)\n",
    "    # 获取排序后的id\n",
    "    sorted_idx = [item[0] for item in sorted_id_score]\n",
    "    top_idxs = sorted_idx[:5]\n",
    "    result_list = [alist[i] for i in top_idxs]\n",
    "    return result_list"
   ]
  },
  {
   "cell_type": "code",
   "execution_count": 24,
   "metadata": {
    "collapsed": true
   },
   "outputs": [
    {
     "name": "stdout",
     "output_type": "stream",
     "text": [
      "['dispute over control of the confluence of the Allegheny and Monongahela rivers, called the Forks of the Ohio', 'Chevrolet Bel Air', 'Kublai Khan', 'railway locomotives', 'After liberation']\n",
      "['aggressiveness', 'the referendum in France and the referendum in the Netherlands', 'Viking', 'Latin', 'Wianki']\n"
     ]
    }
   ],
   "source": [
    "# TODO: 编写几个测试用例，并输出结果\n",
    "print (top5results(\"when did Beyonce start becoming popular\"))\n",
    "print (top5results(\"what languge does the word of 'symbiosis' come from\"))"
   ]
  },
  {
   "cell_type": "code",
   "execution_count": null,
   "metadata": {
    "collapsed": true
   },
   "outputs": [],
   "source": [
    "# 分数（3）\n",
    "\n",
    "# TODO: 上面的top5results算法的时间复杂度和空间复杂度分别是多少？\n",
    "\n",
    "时间复杂度 = O(d)， 空间复杂度 = O(N )"
   ]
  },
  {
   "cell_type": "markdown",
   "metadata": {},
   "source": [
    "### 2.7 基于词向量的文本表示\n",
    "上面所用到的方法论是基于词袋模型（bag-of-words model）。这样的方法论有两个主要的问题：1. 无法计算词语之间的相似度  2. 稀疏度很高。 在2.7里面我们\n",
    "讲采用词向量作为文本的表示。词向量方面需要下载： https://nlp.stanford.edu/projects/glove/ （请下载glove.6B.zip），并使用d=100的词向量（100维）。\n"
   ]
  },
  {
   "cell_type": "code",
   "execution_count": 30,
   "metadata": {
    "collapsed": true
   },
   "outputs": [],
   "source": [
    "# 分数（10）\n",
    "\n",
    "# TODO\n",
    "import numpy as np\n",
    "def load_glove():\n",
    "    glove_path = './data/glove.6B.100d.txt'\n",
    "    vocab = {}\n",
    "    embedding = []\n",
    "    vocab['UNK'] = 0\n",
    "    embedding.append([0.0] * 100)\n",
    "    with open(glove_path) as f:\n",
    "        for idx, line in enumerate(f):\n",
    "            vec = line.strip().split()\n",
    "            vocab[vec[0]] = idx+1\n",
    "            float_map = map(float, vec[1:])\n",
    "            embedding.append(list(float_map))\n",
    "    return vocab,embedding\n",
    "\n",
    "# 句子转换为向量的最简单方式是求平均\n",
    "def words_to_vec(words,vocab,emb):\n",
    "    res_embedding = np.array([[0.0] * 100])\n",
    "    count_words = 0\n",
    "    for word in words:\n",
    "        if word in vocab:\n",
    "            count_words += 1\n",
    "            idx = vocab[word]\n",
    "            res_embedding = res_embedding + np.array([emb[idx]])\n",
    "    if count_words == 0:\n",
    "        return np.array([emb[0]])\n",
    "    return res_embedding/count_words\n",
    "\n",
    "# 读取每一个单词的嵌入。这个是 D*H的矩阵，这里的D是词典库的大小， H是词向量的大小。 这里面我们给定的每个单词的词向量，那句子向量怎么表达？\n",
    "# 其中，最简单的方式 句子向量 = 词向量的平均（出现在问句里的）， 如果给定的词没有出现在词典库里，则忽略掉这个词。\n",
    "vocab,emb = load_glove()"
   ]
  },
  {
   "cell_type": "code",
   "execution_count": 39,
   "metadata": {},
   "outputs": [],
   "source": [
    "def top5results_emb(input_q):\n",
    "    \"\"\"\n",
    "    给定用户输入的问题 input_q, 返回最有可能的TOP 5问题。这里面需要做到以下几点：\n",
    "    1. 利用倒排表来筛选 candidate\n",
    "    2. 对于用户的输入 input_q，转换成句子向量\n",
    "    3. 计算跟每个库里的问题之间的相似度\n",
    "    4. 找出相似度最高的top5问题的答案\n",
    "    \"\"\"\n",
    "    # 1.首先对input_q进行预处理\n",
    "    # 去掉标点符号\n",
    "    regex = re.compile('[%s]' % re.escape(string.punctuation))\n",
    "    sentence = regex.sub('', input_q)\n",
    "    # 切词\n",
    "    sentence = sentence.lower()\n",
    "    words = sentence.split()\n",
    "\n",
    "    temp = []\n",
    "    for word in words:\n",
    "        # 去掉停用词\n",
    "        if word not in stopwords:\n",
    "            # 判断是不是数字\n",
    "            word = '#number' if word.isdigit() else word\n",
    "            # stem\n",
    "            w = stemmer.stem(word)\n",
    "            temp.append(w)\n",
    "    \n",
    "    \n",
    "    # 2.获取包含关键词的文档(至少出现一次)\n",
    "    candidate = set()\n",
    "    for word in words:\n",
    "        if word in inverted_idx:\n",
    "            candidate = candidate | inverted_idx[word] \n",
    "    \n",
    "    # 3.对input_seq 进行向量处理\\\n",
    "    input_vec = words_to_vec(temp,vocab,emb)\n",
    "    \n",
    "    # 4.计算候选集合的句子的相似度\n",
    "    \n",
    "    candidate_scores = []\n",
    "    for idx in candidate:\n",
    "        can_q = qlist[idx]\n",
    "        cand_vec = words_to_vec(can_q,vocab,emb)\n",
    "        res = cosine_similarity(input_vec,cand_vec)[0][0]\n",
    "        candidate_scores.append((idx,res))\n",
    "        \n",
    "    \n",
    "    # 5.选出top5\n",
    "    # 存储id,cos相似度的字典\n",
    "    score_idx = dict((i,v) for i,v in candidate_scores)\n",
    "    # 对score_idx排序\n",
    "    sorted_id_score = sorted(score_idx.items(),key=lambda x:x[1],reverse=True)\n",
    "    # 获取排序后的id\n",
    "    sorted_idx = [item[0] for item in sorted_id_score]\n",
    "    top_idxs = sorted_idx[:5]\n",
    "    result_list = [alist[i] for i in top_idxs]\n",
    "    return result_list"
   ]
  },
  {
   "cell_type": "code",
   "execution_count": 40,
   "metadata": {
    "collapsed": true
   },
   "outputs": [
    {
     "name": "stdout",
     "output_type": "stream",
     "text": [
      "['few British troops', 'no French regular army troops were stationed in North America', '1985', 'Kublai Khan', 'dispute over control of the confluence of the Allegheny and Monongahela rivers, called the Forks of the Ohio']\n",
      "['Conciliation Committee', 'Wisdom, Compassion, Justice and Integrity', 'Scottish rivers', 'Latin', 'reordering']\n"
     ]
    }
   ],
   "source": [
    "# TODO: 编写几个测试用例，并输出结果\n",
    "print (top5results_emb(\"when did Beyonce start becoming popular\"))\n",
    "print (top5results_emb(\"what languge does the word of 'symbiosis' come from\"))\n",
    "\n",
    "# 我们在验收作业时在后台会建立几个测试用例，来验证返回的准确性。"
   ]
  }
 ],
 "metadata": {
  "kernelspec": {
   "display_name": "Python 3",
   "language": "python",
   "name": "python3"
  },
  "language_info": {
   "codemirror_mode": {
    "name": "ipython",
    "version": 3
   },
   "file_extension": ".py",
   "mimetype": "text/x-python",
   "name": "python",
   "nbconvert_exporter": "python",
   "pygments_lexer": "ipython3",
   "version": "3.6.7"
  }
 },
 "nbformat": 4,
 "nbformat_minor": 2
}
